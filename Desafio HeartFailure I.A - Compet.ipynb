{
 "cells": [
  {
   "cell_type": "markdown",
   "metadata": {},
   "source": [
    " Projeto de Classificação - Previsão de Falência Cardíaca\n",
    "\n",
    " Este projeto resolve o desafio de IA com foco em **classificação**, utilizando o dataset Heart Failure Prediction disponível no Kaggle.\n",
    " Link dos dados: https://www.kaggle.com/datasets/fedesoriano/heart-failure-prediction\n",
    " Variável alvo: `HeartDisease` (1 = risco de falência cardíaca, 0 = sem risco)\n",
    " Tipo de tarefa: Classificação binária\n",
    " "
   ]
  },
  {
   "cell_type": "markdown",
   "metadata": {},
   "source": [
    "1. Bibliotecas"
   ]
  },
  {
   "cell_type": "code",
   "execution_count": 2,
   "metadata": {},
   "outputs": [],
   "source": [
    "#Importando as Bibliotecas\n",
    "import pandas as pd\n",
    "import matplotlib.pyplot as plt\n",
    "import seaborn as sns\n",
    " \n",
    "from sklearn.model_selection import train_test_split\n",
    "from sklearn.preprocessing import StandardScaler\n",
    "from sklearn.ensemble import RandomForestClassifier\n",
    "from sklearn.neighbors import KNeighborsClassifier\n",
    "from sklearn.metrics import accuracy_score, classification_report, confusion_matrix"
   ]
  },
  {
   "cell_type": "markdown",
   "metadata": {},
   "source": [
    "2. Leitura de Dados"
   ]
  },
  {
   "cell_type": "code",
   "execution_count": null,
   "metadata": {},
   "outputs": [
    {
     "data": {
      "text/html": [
       "<div>\n",
       "<style scoped>\n",
       "    .dataframe tbody tr th:only-of-type {\n",
       "        vertical-align: middle;\n",
       "    }\n",
       "\n",
       "    .dataframe tbody tr th {\n",
       "        vertical-align: top;\n",
       "    }\n",
       "\n",
       "    .dataframe thead th {\n",
       "        text-align: right;\n",
       "    }\n",
       "</style>\n",
       "<table border=\"1\" class=\"dataframe\">\n",
       "  <thead>\n",
       "    <tr style=\"text-align: right;\">\n",
       "      <th></th>\n",
       "      <th>Age</th>\n",
       "      <th>Sex</th>\n",
       "      <th>ChestPainType</th>\n",
       "      <th>RestingBP</th>\n",
       "      <th>Cholesterol</th>\n",
       "      <th>FastingBS</th>\n",
       "      <th>RestingECG</th>\n",
       "      <th>MaxHR</th>\n",
       "      <th>ExerciseAngina</th>\n",
       "      <th>Oldpeak</th>\n",
       "      <th>ST_Slope</th>\n",
       "      <th>HeartDisease</th>\n",
       "    </tr>\n",
       "  </thead>\n",
       "  <tbody>\n",
       "    <tr>\n",
       "      <th>0</th>\n",
       "      <td>40</td>\n",
       "      <td>M</td>\n",
       "      <td>ATA</td>\n",
       "      <td>140</td>\n",
       "      <td>289</td>\n",
       "      <td>0</td>\n",
       "      <td>Normal</td>\n",
       "      <td>172</td>\n",
       "      <td>N</td>\n",
       "      <td>0.0</td>\n",
       "      <td>Up</td>\n",
       "      <td>0</td>\n",
       "    </tr>\n",
       "    <tr>\n",
       "      <th>1</th>\n",
       "      <td>49</td>\n",
       "      <td>F</td>\n",
       "      <td>NAP</td>\n",
       "      <td>160</td>\n",
       "      <td>180</td>\n",
       "      <td>0</td>\n",
       "      <td>Normal</td>\n",
       "      <td>156</td>\n",
       "      <td>N</td>\n",
       "      <td>1.0</td>\n",
       "      <td>Flat</td>\n",
       "      <td>1</td>\n",
       "    </tr>\n",
       "    <tr>\n",
       "      <th>2</th>\n",
       "      <td>37</td>\n",
       "      <td>M</td>\n",
       "      <td>ATA</td>\n",
       "      <td>130</td>\n",
       "      <td>283</td>\n",
       "      <td>0</td>\n",
       "      <td>ST</td>\n",
       "      <td>98</td>\n",
       "      <td>N</td>\n",
       "      <td>0.0</td>\n",
       "      <td>Up</td>\n",
       "      <td>0</td>\n",
       "    </tr>\n",
       "    <tr>\n",
       "      <th>3</th>\n",
       "      <td>48</td>\n",
       "      <td>F</td>\n",
       "      <td>ASY</td>\n",
       "      <td>138</td>\n",
       "      <td>214</td>\n",
       "      <td>0</td>\n",
       "      <td>Normal</td>\n",
       "      <td>108</td>\n",
       "      <td>Y</td>\n",
       "      <td>1.5</td>\n",
       "      <td>Flat</td>\n",
       "      <td>1</td>\n",
       "    </tr>\n",
       "    <tr>\n",
       "      <th>4</th>\n",
       "      <td>54</td>\n",
       "      <td>M</td>\n",
       "      <td>NAP</td>\n",
       "      <td>150</td>\n",
       "      <td>195</td>\n",
       "      <td>0</td>\n",
       "      <td>Normal</td>\n",
       "      <td>122</td>\n",
       "      <td>N</td>\n",
       "      <td>0.0</td>\n",
       "      <td>Up</td>\n",
       "      <td>0</td>\n",
       "    </tr>\n",
       "  </tbody>\n",
       "</table>\n",
       "</div>"
      ],
      "text/plain": [
       "   Age Sex ChestPainType  RestingBP  Cholesterol  FastingBS RestingECG  MaxHR  \\\n",
       "0   40   M           ATA        140          289          0     Normal    172   \n",
       "1   49   F           NAP        160          180          0     Normal    156   \n",
       "2   37   M           ATA        130          283          0         ST     98   \n",
       "3   48   F           ASY        138          214          0     Normal    108   \n",
       "4   54   M           NAP        150          195          0     Normal    122   \n",
       "\n",
       "  ExerciseAngina  Oldpeak ST_Slope  HeartDisease  \n",
       "0              N      0.0       Up             0  \n",
       "1              N      1.0     Flat             1  \n",
       "2              N      0.0       Up             0  \n",
       "3              Y      1.5     Flat             1  \n",
       "4              N      0.0       Up             0  "
      ]
     },
     "execution_count": 4,
     "metadata": {},
     "output_type": "execute_result"
    }
   ],
   "source": [
    "\n",
    "df = pd.read_csv('heart.csv')\n",
    "df.head()"
   ]
  },
  {
   "cell_type": "markdown",
   "metadata": {},
   "source": [
    "3. Análise Exploratória"
   ]
  },
  {
   "cell_type": "code",
   "execution_count": null,
   "metadata": {},
   "outputs": [
    {
     "data": {
      "image/png": "[encoded data removed]",
      "text/plain": [
       "<Figure size 640x480 with 1 Axes>"
      ]
     },
     "metadata": {},
     "output_type": "display_data"
    },
    {
     "data": {
      "image/png": "[encoded data removed]",
      "text/plain": [
       "<Figure size 1000x600 with 2 Axes>"
      ]
     },
     "metadata": {},
     "output_type": "display_data"
    },
    {
     "name": "stdout",
     "output_type": "stream",
     "text": [
      "Created dataset file at: .gradio\\flagged\\dataset2.csv\n"
     ]
    }
   ],
   "source": [
    "\n",
    "\n",
    "# Distribuição da variável alvo\n",
    "sns.countplot(x='HeartDisease', data=df)\n",
    "plt.title('Distribuição da variável alvo')\n",
    "plt.xlabel('Risco de falência cardíaca (1 = sim)')\n",
    "plt.ylabel('Quantidade de pacientes')\n",
    "plt.show()\n",
    "\n",
    "# Correlação entre as variáveis numéricas\n",
    "plt.figure(figsize=(10, 6))\n",
    "sns.heatmap(df.select_dtypes(include='number').corr(), annot=True, cmap='coolwarm')\n",
    "plt.title('Correlação entre variáveis numéricas')\n",
    "plt.show()\n"
   ]
  },
  {
   "cell_type": "code",
   "execution_count": null,
   "metadata": {},
   "outputs": [
    {
     "name": "stdout",
     "output_type": "stream",
     "text": [
      "Age               0\n",
      "Sex               0\n",
      "ChestPainType     0\n",
      "RestingBP         0\n",
      "Cholesterol       0\n",
      "FastingBS         0\n",
      "RestingECG        0\n",
      "MaxHR             0\n",
      "ExerciseAngina    0\n",
      "Oldpeak           0\n",
      "ST_Slope          0\n",
      "HeartDisease      0\n",
      "dtype: int64\n"
     ]
    }
   ],
   "source": [
    "from sklearn.preprocessing import StandardScaler\n",
    "\n",
    "# Verificar valores ausentes\n",
    "print(df.isnull().sum())\n",
    "\n",
    "# Transformar colunas categóricas em números (One-Hot Encoding)\n",
    "X = df.drop('HeartDisease', axis=1)\n",
    "X = pd.get_dummies(X, drop_first=True)\n",
    "\n",
    "# Variável alvo\n",
    "y = df['HeartDisease']\n",
    "\n",
    "# Padronizar os dados numéricos\n",
    "scaler = StandardScaler()\n",
    "X_scaled = scaler.fit_transform(X)\n"
   ]
  },
  {
   "cell_type": "markdown",
   "metadata": {},
   "source": [
    "4. Divisão treino e teste"
   ]
  },
  {
   "cell_type": "code",
   "execution_count": null,
   "metadata": {},
   "outputs": [],
   "source": [
    "\n",
    "X_train, X_test, y_train, y_test = train_test_split(\n",
    "    X_scaled, y, test_size=0.2, random_state=42\n",
    ")\n",
    " "
   ]
  },
  {
   "cell_type": "markdown",
   "metadata": {},
   "source": [
    "5. Modelos"
   ]
  },
  {
   "cell_type": "code",
   "execution_count": null,
   "metadata": {},
   "outputs": [
    {
     "name": "stdout",
     "output_type": "stream",
     "text": [
      "Acurácia Random Forest: 0.88\n",
      "Acurácia KNN: 0.85\n"
     ]
    }
   ],
   "source": [
    "\n",
    " \n",
    "#Modelo1: Random Forest\n",
    "model_rf = RandomForestClassifier(random_state=42)\n",
    "model_rf.fit(X_train, y_train)\n",
    "y_pred_rf = model_rf.predict(X_test)\n",
    "acc_rf = accuracy_score(y_test, y_pred_rf)\n",
    "print(f'Acurácia Random Forest: {acc_rf:.2f}')\n",
    " \n",
    "#Modelo2: K-Nearest Neighbors\n",
    "model_knn = KNeighborsClassifier()\n",
    "model_knn.fit(X_train, y_train)\n",
    "y_pred_knn = model_knn.predict(X_test)\n",
    "acc_knn = accuracy_score(y_test, y_pred_knn)\n",
    "print(f'Acurácia KNN: {acc_knn:.2f}')"
   ]
  },
  {
   "cell_type": "markdown",
   "metadata": {},
   "source": [
    "6. Avaliação dos Modelos"
   ]
  },
  {
   "cell_type": "code",
   "execution_count": null,
   "metadata": {},
   "outputs": [],
   "source": [
    "\n",
    "#Avaliação Random Forest\n",
    "print('Relatório Random Forest:')\n",
    "print(classification_report(y_test, y_pred_rf))\n",
    "print('Matriz de Confusão:')\n",
    "print(confusion_matrix(y_test, y_pred_rf))\n",
    " \n",
    "#Avaliação KNN\n",
    "print('Relatório KNN:')\n",
    "print(classification_report(y_test, y_pred_knn))\n",
    "print('Matriz de Confusão:')\n",
    "print(confusion_matrix(y_test, y_pred_knn))\n",
    " \n",
    "\n",
    " "
   ]
  },
  {
   "cell_type": "markdown",
   "metadata": {},
   "source": [
    "Por fim, ambos os modelos apresentaram boas acurácias, mas o modelo que obteve a **maior taxa de acerto** foi o\n",
    "# Random Forest."
   ]
  },
  {
   "cell_type": "markdown",
   "metadata": {},
   "source": [
    "Nivel II"
   ]
  },
  {
   "cell_type": "code",
   "execution_count": null,
   "metadata": {},
   "outputs": [
    {
     "name": "stdout",
     "output_type": "stream",
     "text": [
      "Random Forest - Média: 0.8685 | Desvio Padrão: 0.0231\n",
      "KNN           - Média: 0.8616 | Desvio Padrão: 0.0238\n"
     ]
    }
   ],
   "source": [
    "import numpy as np\n",
    "\n",
    "acc_rf_list = []\n",
    "acc_knn_list = []\n",
    "\n",
    "for i in range(30):\n",
    "    X_train, X_test, y_train, y_test = train_test_split(\n",
    "        X_scaled, y, test_size=0.2, random_state=i\n",
    "    )\n",
    "\n",
    "    # Random Forest\n",
    "    model_rf = RandomForestClassifier(random_state=i)\n",
    "    model_rf.fit(X_train, y_train)\n",
    "    y_pred_rf = model_rf.predict(X_test)\n",
    "    acc_rf_list.append(accuracy_score(y_test, y_pred_rf))\n",
    "\n",
    "    # KNN\n",
    "    model_knn = KNeighborsClassifier()\n",
    "    model_knn.fit(X_train, y_train)\n",
    "    y_pred_knn = model_knn.predict(X_test)\n",
    "    acc_knn_list.append(accuracy_score(y_test, y_pred_knn))\n",
    "\n",
    "# Resultados\n",
    "print(f\"Random Forest - Média: {np.mean(acc_rf_list):.4f} | Desvio Padrão: {np.std(acc_rf_list):.4f}\")\n",
    "print(f\"KNN           - Média: {np.mean(acc_knn_list):.4f} | Desvio Padrão: {np.std(acc_knn_list):.4f}\")\n",
    "\n",
    "# Conclusão: \n",
    "# Random Forest teve maior média de acurácia e menor desvio padrão"
   ]
  },
  {
   "cell_type": "code",
   "execution_count": null,
   "metadata": {},
   "outputs": [],
   "source": [
    "import pickle\n",
    "\n",
    "final_model = RandomForestClassifier()\n",
    "final_model.fit(X_scaled, y)\n",
    "\n",
    "with open(\"modelo_final.pkl\", \"wb\") as f:\n",
    "    pickle.dump(final_model, f)\n",
    "\n",
    "with open(\"scaler.pkl\", \"wb\") as f:\n",
    "    pickle.dump(scaler, f)\n"
   ]
  },
  {
   "cell_type": "code",
   "execution_count": null,
   "metadata": {},
   "outputs": [
    {
     "name": "stdout",
     "output_type": "stream",
     "text": [
      "* Running on local URL:  http://127.0.0.1:7861\n",
      "* To create a public link, set `share=True` in `launch()`.\n"
     ]
    },
    {
     "data": {
      "text/html": [
       "<div><iframe src=\"http://127.0.0.1:7861/\" width=\"100%\" height=\"500\" allow=\"autoplay; camera; microphone; clipboard-read; clipboard-write;\" frameborder=\"0\" allowfullscreen></iframe></div>"
      ],
      "text/plain": [
       "<IPython.core.display.HTML object>"
      ]
     },
     "metadata": {},
     "output_type": "display_data"
    },
    {
     "data": {
      "text/plain": []
     },
     "execution_count": 20,
     "metadata": {},
     "output_type": "execute_result"
    },
    {
     "name": "stderr",
     "output_type": "stream",
     "text": [
      "Traceback (most recent call last):\n",
      "  File \"C:\\Users\\aluno\\AppData\\Roaming\\Python\\Python312\\site-packages\\gradio\\queueing.py\", line 625, in process_events\n",
      "    response = await route_utils.call_process_api(\n",
      "               ^^^^^^^^^^^^^^^^^^^^^^^^^^^^^^^^^^^\n",
      "  File \"C:\\Users\\aluno\\AppData\\Roaming\\Python\\Python312\\site-packages\\gradio\\route_utils.py\", line 322, in call_process_api\n",
      "    output = await app.get_blocks().process_api(\n",
      "             ^^^^^^^^^^^^^^^^^^^^^^^^^^^^^^^^^^^\n",
      "  File \"C:\\Users\\aluno\\AppData\\Roaming\\Python\\Python312\\site-packages\\gradio\\blocks.py\", line 2181, in process_api\n",
      "    result = await self.call_function(\n",
      "             ^^^^^^^^^^^^^^^^^^^^^^^^^\n",
      "  File \"C:\\Users\\aluno\\AppData\\Roaming\\Python\\Python312\\site-packages\\gradio\\blocks.py\", line 1692, in call_function\n",
      "    prediction = await anyio.to_thread.run_sync(  # type: ignore\n",
      "                 ^^^^^^^^^^^^^^^^^^^^^^^^^^^^^^^^^^^^^^^^^^^^^^^\n",
      "  File \"C:\\Users\\aluno\\AppData\\Roaming\\Python\\Python312\\site-packages\\anyio\\to_thread.py\", line 56, in run_sync\n",
      "    return await get_async_backend().run_sync_in_worker_thread(\n",
      "           ^^^^^^^^^^^^^^^^^^^^^^^^^^^^^^^^^^^^^^^^^^^^^^^^^^^^\n",
      "  File \"C:\\Users\\aluno\\AppData\\Roaming\\Python\\Python312\\site-packages\\anyio\\_backends\\_asyncio.py\", line 2470, in run_sync_in_worker_thread\n",
      "    return await future\n",
      "           ^^^^^^^^^^^^\n",
      "  File \"C:\\Users\\aluno\\AppData\\Roaming\\Python\\Python312\\site-packages\\anyio\\_backends\\_asyncio.py\", line 967, in run\n",
      "    result = context.run(func, *args)\n",
      "             ^^^^^^^^^^^^^^^^^^^^^^^^\n",
      "  File \"C:\\Users\\aluno\\AppData\\Roaming\\Python\\Python312\\site-packages\\gradio\\utils.py\", line 889, in wrapper\n",
      "    response = f(*args, **kwargs)\n",
      "               ^^^^^^^^^^^^^^^^^^\n",
      "  File \"C:\\Users\\aluno\\AppData\\Local\\Temp\\ipykernel_13288\\2220839606.py\", line 40, in prever\n",
      "    for col in modelo.feature_names_in_:\n",
      "               ^^^^^^^^^^^^^^^^^^^^^^^^\n",
      "AttributeError: 'RandomForestClassifier' object has no attribute 'feature_names_in_'\n",
      "Traceback (most recent call last):\n",
      "  File \"C:\\Users\\aluno\\AppData\\Roaming\\Python\\Python312\\site-packages\\gradio\\queueing.py\", line 625, in process_events\n",
      "    response = await route_utils.call_process_api(\n",
      "               ^^^^^^^^^^^^^^^^^^^^^^^^^^^^^^^^^^^\n",
      "  File \"C:\\Users\\aluno\\AppData\\Roaming\\Python\\Python312\\site-packages\\gradio\\route_utils.py\", line 322, in call_process_api\n",
      "    output = await app.get_blocks().process_api(\n",
      "             ^^^^^^^^^^^^^^^^^^^^^^^^^^^^^^^^^^^\n",
      "  File \"C:\\Users\\aluno\\AppData\\Roaming\\Python\\Python312\\site-packages\\gradio\\blocks.py\", line 2181, in process_api\n",
      "    result = await self.call_function(\n",
      "             ^^^^^^^^^^^^^^^^^^^^^^^^^\n",
      "  File \"C:\\Users\\aluno\\AppData\\Roaming\\Python\\Python312\\site-packages\\gradio\\blocks.py\", line 1692, in call_function\n",
      "    prediction = await anyio.to_thread.run_sync(  # type: ignore\n",
      "                 ^^^^^^^^^^^^^^^^^^^^^^^^^^^^^^^^^^^^^^^^^^^^^^^\n",
      "  File \"C:\\Users\\aluno\\AppData\\Roaming\\Python\\Python312\\site-packages\\anyio\\to_thread.py\", line 56, in run_sync\n",
      "    return await get_async_backend().run_sync_in_worker_thread(\n",
      "           ^^^^^^^^^^^^^^^^^^^^^^^^^^^^^^^^^^^^^^^^^^^^^^^^^^^^\n",
      "  File \"C:\\Users\\aluno\\AppData\\Roaming\\Python\\Python312\\site-packages\\anyio\\_backends\\_asyncio.py\", line 2470, in run_sync_in_worker_thread\n",
      "    return await future\n",
      "           ^^^^^^^^^^^^\n",
      "  File \"C:\\Users\\aluno\\AppData\\Roaming\\Python\\Python312\\site-packages\\anyio\\_backends\\_asyncio.py\", line 967, in run\n",
      "    result = context.run(func, *args)\n",
      "             ^^^^^^^^^^^^^^^^^^^^^^^^\n",
      "  File \"C:\\Users\\aluno\\AppData\\Roaming\\Python\\Python312\\site-packages\\gradio\\utils.py\", line 889, in wrapper\n",
      "    response = f(*args, **kwargs)\n",
      "               ^^^^^^^^^^^^^^^^^^\n",
      "  File \"C:\\Users\\aluno\\AppData\\Local\\Temp\\ipykernel_13288\\2220839606.py\", line 40, in prever\n",
      "    for col in modelo.feature_names_in_:\n",
      "               ^^^^^^^^^^^^^^^^^^^^^^^^\n",
      "AttributeError: 'RandomForestClassifier' object has no attribute 'feature_names_in_'\n"
     ]
    }
   ],
   "source": [
    "import gradio as gr\n",
    "import numpy as np\n",
    "import pandas as pd\n",
    "import pickle\n",
    "\n",
    "with open(\"modelo_final.pkl\", \"rb\") as f:\n",
    "    modelo = pickle.load(f)\n",
    "\n",
    "with open(\"scaler.pkl\", \"rb\") as f:\n",
    "    scaler = pickle.load(f)\n",
    "\n",
    "# Lista de colunas originais antes de usar get_dummies \n",
    "colunas_originais = [\n",
    "    \"Age\", \"Sex\", \"ChestPainType\", \"Cholesterol\", \"FastingBS\", \"RestingECG\",\n",
    "    \"MaxHR\", \"ExerciseAngina\", \"Oldpeak\", \"ST_Slope\"\n",
    "]\n",
    "\n",
    "# Função que transforma entrada em DataFrame e faz a predição\n",
    "def prever(age, sex, cp, chol, fbs, ecg, maxhr, angina, oldpeak, slope):\n",
    "    entrada_dict = {\n",
    "        \"Age\": age,\n",
    "        \"Sex\": sex,\n",
    "        \"ChestPainType\": cp,\n",
    "        \"Cholesterol\": chol,\n",
    "        \"FastingBS\": fbs,\n",
    "        \"RestingECG\": ecg,\n",
    "        \"MaxHR\": maxhr,\n",
    "        \"ExerciseAngina\": angina,\n",
    "        \"Oldpeak\": oldpeak,\n",
    "        \"ST_Slope\": slope\n",
    "    }\n",
    "\n",
    "    df_input = pd.DataFrame([entrada_dict])\n",
    "\n",
    "    # Transformar categóricas em dummies \n",
    "    df_input = pd.get_dummies(df_input)\n",
    "\n",
    "    # Adicionar colunas faltantes com 0\n",
    "    for col in modelo.feature_names_in_:\n",
    "        if col not in df_input.columns:\n",
    "            df_input[col] = 0\n",
    "\n",
    "    # Ordenar as colunas na mesma ordem usada no treino\n",
    "    df_input = df_input[modelo.feature_names_in_]\n",
    "\n",
    "    # Escalar e prever\n",
    "    entrada_normalizada = scaler.transform(df_input)\n",
    "    pred = modelo.predict(entrada_normalizada)[0]\n",
    "    return \"🔴 RISCO de falência cardíaca\" if pred == 1 else \"🟢 SEM risco\"\n",
    "\n",
    "# Criar interface com campos mistos\n",
    "gr.Interface(\n",
    "    fn=prever,\n",
    "    inputs=[\n",
    "        gr.Number(label=\"Idade\"),\n",
    "        gr.Dropdown([\"M\", \"F\"], label=\"Sexo\"),\n",
    "        gr.Dropdown([\"ATA\", \"NAP\", \"ASY\", \"TA\"], label=\"Tipo de dor no peito\"),\n",
    "        gr.Number(label=\"Colesterol\"),\n",
    "        gr.Dropdown([0, 1], label=\"FastingBS (0 = não, 1 = sim)\"),\n",
    "        gr.Dropdown([\"Normal\", \"ST\", \"LVH\"], label=\"ECG em repouso\"),\n",
    "        gr.Number(label=\"Frequência cardíaca máxima (MaxHR)\"),\n",
    "        gr.Dropdown([\"Yes\", \"No\"], label=\"Angina por esforço\"),\n",
    "        gr.Number(label=\"Oldpeak\"),\n",
    "        gr.Dropdown([\"Up\", \"Flat\", \"Down\"], label=\"Inclinação do segmento ST\")\n",
    "    ],\n",
    "    outputs=\"text\",\n",
    "    title=\"Classificador de Falência Cardíaca\",\n",
    "    description=\"Preencha os dados do paciente para prever risco de falência cardíaca.\"\n",
    ").launch()\n"
   ]
  }
 ],
 "metadata": {
  "kernelspec": {
   "display_name": "Python 3",
   "language": "python",
   "name": "python3"
  },
  "language_info": {
   "codemirror_mode": {
    "name": "ipython",
    "version": 3
   },
   "file_extension": ".py",
   "mimetype": "text/x-python",
   "name": "python",
   "nbconvert_exporter": "python",
   "pygments_lexer": "ipython3",
   "version": "3.12.3"
  }
 },
 "nbformat": 4,
 "nbformat_minor": 2
}
